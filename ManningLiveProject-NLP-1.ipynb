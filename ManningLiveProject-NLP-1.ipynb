{
  "nbformat": 4,
  "nbformat_minor": 0,
  "metadata": {
    "colab": {
      "provenance": [],
      "authorship_tag": "ABX9TyMMpDoulSWQT7Xguc6Lor7K",
      "include_colab_link": true
    },
    "kernelspec": {
      "name": "python3",
      "display_name": "Python 3"
    },
    "language_info": {
      "name": "python"
    }
  },
  "cells": [
    {
      "cell_type": "markdown",
      "metadata": {
        "id": "view-in-github",
        "colab_type": "text"
      },
      "source": [
        "<a href=\"https://colab.research.google.com/github/patrick-ty/AIML/blob/main/ManningLiveProject-NLP-1.ipynb\" target=\"_parent\"><img src=\"https://colab.research.google.com/assets/colab-badge.svg\" alt=\"Open In Colab\"/></a>"
      ]
    },
    {
      "cell_type": "code",
      "execution_count": 5,
      "metadata": {
        "colab": {
          "base_uri": "https://localhost:8080/"
        },
        "id": "4PTOMNmRfkZL",
        "outputId": "51e792a1-9694-48a2-c998-027f21085f5e"
      },
      "outputs": [
        {
          "output_type": "stream",
          "name": "stderr",
          "text": [
            "No model was supplied, defaulted to distilbert/distilbert-base-cased-distilled-squad and revision 626af31 (https://huggingface.co/distilbert/distilbert-base-cased-distilled-squad).\n",
            "Using a pipeline without specifying a model name and revision in production is not recommended.\n",
            "/usr/local/lib/python3.10/dist-packages/transformers/tokenization_utils_base.py:1601: FutureWarning: `clean_up_tokenization_spaces` was not set. It will be set to `True` by default. This behavior will be depracted in transformers v4.45, and will be then set to `False` by default. For more details check this issue: https://github.com/huggingface/transformers/issues/31884\n",
            "  warnings.warn(\n"
          ]
        },
        {
          "output_type": "execute_result",
          "data": {
            "text/plain": [
              "{'score': 0.9848850965499878, 'start': 56, 'end': 60, 'answer': '1965'}"
            ]
          },
          "metadata": {},
          "execution_count": 5
        }
      ],
      "source": [
        "# prompt: Instantiate the pipeline class by passing the “question-answering” task as a parameter (1 line of code). When you pass just this parameter, the NLP “question-answering” task will be initiated by the Hugging Face library using the transformer DistilBERT, which is a model of the BERT family that stands out for its speed in inference.\n",
        "\n",
        "from transformers import pipeline\n",
        "qa_pipeline = pipeline(\"question-answering\")\n",
        "qa_pipeline(context = \"Pink Floyd was an English rock band formed in London in 1965.\", question = \"When was Pink Floyd formed?\")\n"
      ]
    }
  ]
}